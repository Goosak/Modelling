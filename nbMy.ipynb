{
 "cells": [
  {
   "cell_type": "code",
   "execution_count": 330,
   "metadata": {},
   "outputs": [],
   "source": [
    "import numpy as np\n",
    "import pandas as pd\n",
    "from convert import convert"
   ]
  },
  {
   "cell_type": "code",
   "execution_count": 518,
   "metadata": {},
   "outputs": [],
   "source": [
    "class NBClassifier:\n",
    "    def __init__(self):\n",
    "        self.all_var = 0\n",
    "        self.freq_tabs = {}\n",
    "        self.y_unique = []\n",
    "        \n",
    "    def fit(self, x, y): \n",
    "        self.y_unique = y.iloc[:, 0].unique()\n",
    "        for c in x.columns:\n",
    "            tab = game_train[[y.columns[0], c]].groupby([y.columns[0], c]).groups\n",
    "            self.freq_tabs[c]={}\n",
    "            for v in game_train[c].unique():\n",
    "                self.freq_tabs[c][v]=list()\n",
    "                for i in range(0,len(self.y_unique)):\n",
    "                    if (self.y_unique[i], v) in tab:\n",
    "                        self.freq_tabs[c][v].append(len(tab[(self.y_unique[i], v)]))\n",
    "                    else:\n",
    "                        self.freq_tabs[c][v].append(0)\n",
    "            self.freq_tabs[c][\"итого\"]=list()\n",
    "            for i in range(0,len(self.y_unique)):\n",
    "                self.freq_tabs[c][\"итого\"].append(0)\n",
    "                for j in game_train[c].unique():\n",
    "                    self.freq_tabs[c][\"итого\"][i]+=self.freq_tabs[c][j][i]\n",
    "    \n",
    "        self.all_var = y.size\n",
    "        \n",
    "    def predict(self, x):\n",
    "        normalize_confidences = list()\n",
    "        for n in range(0, len(game_score)):\n",
    "            game_str = game_score.iloc[n, :]\n",
    "            normalize_confidences.append(list())\n",
    "            confidences = list()\n",
    "            for i in range(0,len(self.freq_tabs[next(iter(self.freq_tabs))]['итого'])):\n",
    "                confidence = 1\n",
    "                for c in game_score.columns:\n",
    "                    confidence *= self.freq_tabs[c][game_str.get(c)][i]/self.freq_tabs[c]['итого'][i]\n",
    "                confidence*=self.freq_tabs[next(iter(self.freq_tabs))]['итого'][i]/self.all_var\n",
    "                confidences.append(confidence)\n",
    "\n",
    "            for j in range(0, len(confidences)):\n",
    "                normalize_confidences[n].append(confidences[j]/sum(confidences))\n",
    "        game_column = list()\n",
    "        for i in range(0,len(normalize_confidences)):\n",
    "            ind =np.argmax(normalize_confidences[i])\n",
    "            game_column.append(self.y_unique[int(ind)])\n",
    "        return game_column"
   ]
  },
  {
   "cell_type": "code",
   "execution_count": 525,
   "metadata": {},
   "outputs": [],
   "source": [
    "path = \"datasets\\\\\"\n",
    "dataset_train=\"nbtrain.xlsx\"\n",
    "dataset_score=\"nbscore.xlsx\"\n",
    "\n",
    "game_train=pd.read_excel(path+dataset_train)\n",
    "game_score = pd.read_excel(path+dataset_score)"
   ]
  },
  {
   "cell_type": "code",
   "execution_count": 526,
   "metadata": {},
   "outputs": [
    {
     "data": {
      "text/html": [
       "<div>\n",
       "<style scoped>\n",
       "    .dataframe tbody tr th:only-of-type {\n",
       "        vertical-align: middle;\n",
       "    }\n",
       "\n",
       "    .dataframe tbody tr th {\n",
       "        vertical-align: top;\n",
       "    }\n",
       "\n",
       "    .dataframe thead th {\n",
       "        text-align: right;\n",
       "    }\n",
       "</style>\n",
       "<table border=\"1\" class=\"dataframe\">\n",
       "  <thead>\n",
       "    <tr style=\"text-align: right;\">\n",
       "      <th></th>\n",
       "      <th>Наблюдение</th>\n",
       "      <th>Температура</th>\n",
       "      <th>Влажность</th>\n",
       "      <th>Ветер</th>\n",
       "      <th>Игра</th>\n",
       "    </tr>\n",
       "  </thead>\n",
       "  <tbody>\n",
       "    <tr>\n",
       "      <td>0</td>\n",
       "      <td>солнце</td>\n",
       "      <td>жарко</td>\n",
       "      <td>высокая</td>\n",
       "      <td>нет</td>\n",
       "      <td>нет</td>\n",
       "    </tr>\n",
       "    <tr>\n",
       "      <td>1</td>\n",
       "      <td>солнце</td>\n",
       "      <td>жарко</td>\n",
       "      <td>высокая</td>\n",
       "      <td>есть</td>\n",
       "      <td>нет</td>\n",
       "    </tr>\n",
       "    <tr>\n",
       "      <td>2</td>\n",
       "      <td>облачность</td>\n",
       "      <td>жарко</td>\n",
       "      <td>высокая</td>\n",
       "      <td>нет</td>\n",
       "      <td>да</td>\n",
       "    </tr>\n",
       "    <tr>\n",
       "      <td>3</td>\n",
       "      <td>дождь</td>\n",
       "      <td>норма</td>\n",
       "      <td>высокая</td>\n",
       "      <td>нет</td>\n",
       "      <td>да</td>\n",
       "    </tr>\n",
       "    <tr>\n",
       "      <td>4</td>\n",
       "      <td>дождь</td>\n",
       "      <td>холодно</td>\n",
       "      <td>норма</td>\n",
       "      <td>нет</td>\n",
       "      <td>да</td>\n",
       "    </tr>\n",
       "  </tbody>\n",
       "</table>\n",
       "</div>"
      ],
      "text/plain": [
       "   Наблюдение Температура Влажность Ветер Игра\n",
       "0      солнце       жарко   высокая   нет  нет\n",
       "1      солнце       жарко   высокая  есть  нет\n",
       "2  облачность       жарко   высокая   нет   да\n",
       "3       дождь       норма   высокая   нет   да\n",
       "4       дождь     холодно     норма   нет   да"
      ]
     },
     "execution_count": 526,
     "metadata": {},
     "output_type": "execute_result"
    }
   ],
   "source": [
    "game_train.head()"
   ]
  },
  {
   "cell_type": "code",
   "execution_count": 527,
   "metadata": {},
   "outputs": [
    {
     "data": {
      "text/html": [
       "<div>\n",
       "<style scoped>\n",
       "    .dataframe tbody tr th:only-of-type {\n",
       "        vertical-align: middle;\n",
       "    }\n",
       "\n",
       "    .dataframe tbody tr th {\n",
       "        vertical-align: top;\n",
       "    }\n",
       "\n",
       "    .dataframe thead th {\n",
       "        text-align: right;\n",
       "    }\n",
       "</style>\n",
       "<table border=\"1\" class=\"dataframe\">\n",
       "  <thead>\n",
       "    <tr style=\"text-align: right;\">\n",
       "      <th></th>\n",
       "      <th>Наблюдение</th>\n",
       "      <th>Температура</th>\n",
       "      <th>Влажность</th>\n",
       "      <th>Ветер</th>\n",
       "    </tr>\n",
       "  </thead>\n",
       "  <tbody>\n",
       "    <tr>\n",
       "      <td>0</td>\n",
       "      <td>солнце</td>\n",
       "      <td>жарко</td>\n",
       "      <td>высокая</td>\n",
       "      <td>есть</td>\n",
       "    </tr>\n",
       "    <tr>\n",
       "      <td>1</td>\n",
       "      <td>солнце</td>\n",
       "      <td>холодно</td>\n",
       "      <td>высокая</td>\n",
       "      <td>есть</td>\n",
       "    </tr>\n",
       "    <tr>\n",
       "      <td>2</td>\n",
       "      <td>солнце</td>\n",
       "      <td>жарко</td>\n",
       "      <td>норма</td>\n",
       "      <td>есть</td>\n",
       "    </tr>\n",
       "    <tr>\n",
       "      <td>3</td>\n",
       "      <td>солнце</td>\n",
       "      <td>норма</td>\n",
       "      <td>норма</td>\n",
       "      <td>нет</td>\n",
       "    </tr>\n",
       "    <tr>\n",
       "      <td>4</td>\n",
       "      <td>облачность</td>\n",
       "      <td>жарко</td>\n",
       "      <td>высокая</td>\n",
       "      <td>есть</td>\n",
       "    </tr>\n",
       "  </tbody>\n",
       "</table>\n",
       "</div>"
      ],
      "text/plain": [
       "   Наблюдение Температура Влажность Ветер\n",
       "0      солнце       жарко   высокая  есть\n",
       "1      солнце     холодно   высокая  есть\n",
       "2      солнце       жарко     норма  есть\n",
       "3      солнце       норма     норма   нет\n",
       "4  облачность       жарко   высокая  есть"
      ]
     },
     "execution_count": 527,
     "metadata": {},
     "output_type": "execute_result"
    }
   ],
   "source": [
    "game_score.head()"
   ]
  },
  {
   "cell_type": "code",
   "execution_count": 528,
   "metadata": {},
   "outputs": [],
   "source": [
    "x = game_train.loc[:, game_train.columns!=\"Игра\"]\n",
    "y = game_train.loc[:, game_train.columns==\"Игра\"]"
   ]
  },
  {
   "cell_type": "code",
   "execution_count": 529,
   "metadata": {},
   "outputs": [],
   "source": [
    "nb = NBClassifier()\n",
    "nb.fit(x,y)\n"
   ]
  },
  {
   "cell_type": "code",
   "execution_count": 530,
   "metadata": {},
   "outputs": [
    {
     "data": {
      "text/plain": [
       "['нет', 'нет', 'нет', 'да', 'да', 'да', 'да', 'да', 'нет']"
      ]
     },
     "execution_count": 530,
     "metadata": {},
     "output_type": "execute_result"
    }
   ],
   "source": [
    "nb.predict(game_score)"
   ]
  },
  {
   "cell_type": "code",
   "execution_count": null,
   "metadata": {},
   "outputs": [],
   "source": []
  }
 ],
 "metadata": {
  "kernelspec": {
   "display_name": "Python 3",
   "language": "python",
   "name": "python3"
  },
  "language_info": {
   "codemirror_mode": {
    "name": "ipython",
    "version": 3
   },
   "file_extension": ".py",
   "mimetype": "text/x-python",
   "name": "python",
   "nbconvert_exporter": "python",
   "pygments_lexer": "ipython3",
   "version": "3.7.4"
  }
 },
 "nbformat": 4,
 "nbformat_minor": 2
}
